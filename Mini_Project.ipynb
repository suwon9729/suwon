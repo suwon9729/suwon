{
  "cells": [
    {
      "cell_type": "markdown",
      "metadata": {
        "id": "view-in-github",
        "colab_type": "text"
      },
      "source": [
        "<a href=\"https://colab.research.google.com/github/suwon9729/suwon/blob/oz_school/Mini_Project.ipynb\" target=\"_parent\"><img src=\"https://colab.research.google.com/assets/colab-badge.svg\" alt=\"Open In Colab\"/></a>"
      ]
    },
    {
      "cell_type": "markdown",
      "metadata": {
        "id": "MoWlK0jinrpN"
      },
      "source": [
        "\n",
        "## Mini project [행맨 게임 제작]\n",
        "\n",
        "안녕하세요.\n",
        "수강생 여러분~! Chapter17 ~ 20 수업은 잘 들으셨나요?\n",
        "\n",
        "여러분의 모든 역량을 총 동원해 문제를 풀어주셨합니다.\n",
        "\n",
        "\n",
        "\n",
        "#### 과제 설명\n",
        "\n",
        "이번 개발 주제는 '행맨' 게임이구요.\n",
        "\n",
        "행맨 게임은 아주 유명한 단어 퀴즈 프로그램이예요\n",
        "\n",
        "어떤 단어가 주어지면 그 단어의 길이만큼 빈 칸(밑줄) 이 주어지고\n",
        "플레이어는 알파벳을 하나씩 얘기하면서 단어를 추측해요!\n",
        "\n",
        "10번만에 맞히지 못하면 게임이 끝납니다. 🥲\n",
        "\n"
      ]
    },
    {
      "cell_type": "markdown",
      "metadata": {
        "id": "TQ0_AReItZ4z"
      },
      "source": [
        "#### 예시를 들어볼께요!!\n",
        "\n",
        "만약 E 가 단어에 포함돼있다면, 해당하는 위치에 E 를 표시해줍니다\n",
        "\n",
        "_ _ _ _ E E\n",
        "이렇게 되겠네요.\n",
        "\n",
        "이번에는 A를 해볼께요\n",
        "A 는 포함되지 않으므로 기회가 줄어들고 지금까지 맞힌 내용 그대로 출력합니다.\n",
        "\n",
        "_ _ _ _ E E\n",
        "변화가 없지요.\n",
        "\n",
        "이번에는 C 를 해봅시다.\n",
        "\n",
        "그럼\n",
        "C _ _ _ E E\n",
        "\n",
        "다음에는 F 를\n",
        "C _ F F E E\n",
        "\n",
        "마지막으로 O 를 해보면\n",
        "C O F F E E 로 게임은 성공으로 끝나게 됩니다."
      ]
    },
    {
      "cell_type": "markdown",
      "metadata": {
        "id": "eAI1BLDfuoNp"
      },
      "source": [
        "##본격적인 행맨 게임 규칙 설명\n",
        "\n",
        "- words 리스트에 추가된 단어들을 사용해주세요\n",
        "  - words = [\"apple\", \"banana\", \"orange\", \"grape\", \"lemon\"]\n",
        "\n",
        "- 단어의 길이에 맞게 밑줄을 출력해주세요  \n",
        "  (예)banana의 경우 _ _ _ _ _ _\n",
        "\n",
        "- 사용자부터 1글자씩 입력을 받되,\n",
        "   - 단어에 입력값이 포함되면 \"단어를 맞추셨군요. 더 힘내봐요\"라고 출력해주세요\"\n",
        "   - 단어에 입력값이 포함되어 있지 않다면 \"틀렸습니다. 남은 시도 횟수 \"란 메시지와 함꼐 남은 횟수를 출력해주세요\n",
        "\n",
        "- 매번 입력을 받을 때마다 현재까지 맞힌 글자들 표시(맞히면 글자는 밑줄 출력)\n",
        "    - 예) a 입력 시 : a _ _ _ _\n",
        "          p 입력 시 : a p p _ _\n",
        "          c 입력 시 : a p p _ _\n",
        "\n",
        "- 모든 단어를 맞췄을 경우 \"축하합니다! 단어를 맞추셨습니다\"와 시도 횟수를 출력해주세요\n",
        "\n",
        "\n",
        "행맨은 정말 유명 게임으로 찾아볼 수 있는 자료들이 많습니다.   \n",
        "문제가 어려우신 경우 구글링 통해 문제를 해결해보세요.  "
      ]
    },
    {
      "cell_type": "code",
      "execution_count": 2,
      "metadata": {
        "id": "SlxmsiBtnqdd",
        "colab": {
          "base_uri": "https://localhost:8080/"
        },
        "outputId": "a440b3f3-6bd3-458b-db7a-d723c73cd156"
      },
      "outputs": [
        {
          "output_type": "stream",
          "name": "stdout",
          "text": [
            "answer : orange\n",
            "\n",
            "_ _ _ _ _ _ \n",
            "Input letter > a\n",
            "Correct\n",
            "\n",
            "_ _ a _ _ _ \n",
            "Input letter > h\n",
            "Wrong\n",
            "\n",
            "_ _ a _ _ _ \n",
            "Input letter > n\n",
            "Correct\n",
            "\n",
            "_ _ a n _ _ \n",
            "Input letter > o\n",
            "Correct\n",
            "\n",
            "o _ a n _ _ \n",
            "Input letter > r\n",
            "Correct\n",
            "\n",
            "o r a n _ _ \n",
            "Input letter > g\n",
            "Correct\n",
            "\n",
            "o r a n g _ \n",
            "Input letter > e\n",
            "Correct\n",
            "\n",
            "o r a n g e \n",
            "Success\n"
          ]
        }
      ],
      "source": [
        "from random import * # 랜덤 모듈 import\n",
        "words = [\"apple\", \"banana\", \"orange\"] # 리스트에 영어 단어 후보를 나열\n",
        "word = choice(words) # 랜덤으로 단어 중 1개를 선택\n",
        "print(\"answer : \" + word) # 참고용으로 정답 출력 (실제 게임에서는 지우기)\n",
        "letters = \"\" # 플레이어가 지금까지 입력한 알파벳들 저장\n",
        "\n",
        "# 정답을 맞힐 때까지 무한 반복\n",
        "while True:\n",
        "    succeed = True # 성공 여부 확인 변수\n",
        "    print()\n",
        "    for w in word: # 제시 단어를 알파벳별로 한 글자씩 비교\n",
        "        if w in letters: # 현재 알파벳이 플레이어가 입력한 값들 중에 있으면\n",
        "            print(w, end=\" \") # 그 알파벳을 표시\n",
        "        else: # 입력한 값들 중에 없으면\n",
        "            print(\"_\", end=\" \") # 밑줄을 표시\n",
        "            succeed = False # 밑줄이 있다는 것은 아직 다 풀지 못했음을 의미 !\n",
        "    print()\n",
        "\n",
        "    if succeed: # 만약 성공했다면 게임 종료\n",
        "        print(\"Success\")\n",
        "        break\n",
        "\n",
        "    letter = input(\"Input letter > \") # 플레이어로부터 한 글자씩 입력\n",
        "    if letter not in letters: # 입력값 중에 포함되어 있지 않다면\n",
        "        letters += letter # 새로 입력받은 글자를 입력값에 추가\n",
        "\n",
        "    if letter in word: # 입력한 글자가 제시 단어에 포함되었다면\n",
        "        print(\"Correct\")\n",
        "    else: # 포함되어있지 않다면\n",
        "        print(\"Wrong\")"
      ]
    },
    {
      "cell_type": "code",
      "source": [
        "import random\n",
        "import os\n",
        "from data import HANGMANPICS, word_list, win_art\n",
        "\n",
        "game_continue = 'y'\n",
        "while game_continue != 'n':\n",
        "    life = 7\n",
        "    game_over = 0\n",
        "    # TODO 1. 랜덤으로 나오게 할 문자열을 지정한다. 문자열을 뽑는다.\n",
        "    chosen_word = random.choice(word_list)\n",
        "    print(chosen_word) #정답 확인용\n",
        "\n",
        "    # TODO 2. 선택한 문자를 글자수를 세서 '_'를 출력한다.\n",
        "\n",
        "    blank_answer = [] ##정답이 담길 빈칸\n",
        "    answer_list = [] ##정답이 담길 칸\n",
        "    user_guess_list = [] ##사용자가 유추한 답이 담길 리스트\n",
        "    for j in range(0, len(chosen_word)):\n",
        "        blank_answer.append(\"_\")\n",
        "    for i in chosen_word:\n",
        "        answer_list.append(i)\n",
        "    # print(answer_list) # 정답 확인용\n",
        "\n",
        "    # TODO 3. 사용자에게 질문한다. 기회는 총 일곱번 준다.\n",
        "    while game_over != 1:\n",
        "        print(HANGMANPICS[7 - life])\n",
        "        if len(user_guess_list) == 0:\n",
        "            pass\n",
        "        else:\n",
        "            print(f\"지금까지 유추한 단어: {', '.join(user_guess_list)}\")\n",
        "        print(' '.join(blank_answer))\n",
        "        print(f\"기회가 {life}번 남았습니다.\")\n",
        "        while True: # 예외처리 / 한글 한글자는 예외처리 못함\n",
        "            user_guess = input(\"글자를 유추하세요: \").lower()\n",
        "            if not user_guess.isalpha():\n",
        "                print(\"문자로 입력하세요\")\n",
        "                continue\n",
        "            if len(user_guess) >= 2:\n",
        "                print(\"한 글자로만 입력하세요\")\n",
        "                continue\n",
        "            else:\n",
        "                break\n",
        "        user_guess_list.append(user_guess)\n",
        "        # TODO 4. 사용자가 유추한 글자 중 하나가 선택된 단어 안에 있으면 출력한다.\n",
        "        if user_guess in answer_list:\n",
        "            print(\"맞았습니다!\")\n",
        "            num = 0\n",
        "            for m in chosen_word:\n",
        "                if user_guess == m:\n",
        "                    blank_answer[num] = m\n",
        "                num += 1\n",
        "            print(blank_answer)\n",
        "        else:\n",
        "            ## 없으면 생명을 하나 잃는다.\n",
        "            print(\"틀렸습니다!\")\n",
        "            life -= 1\n",
        "        os.system(\"cls\")\n",
        "        # TODO 5. 만약 5번의 기회 전에 다 맞추면 성공, 아니면 실피하며 정답을 출력한다.\n",
        "        if answer_list == blank_answer: ## if '_' not in blank_answer 로 사용할 수 있을듯\n",
        "            print(win_art)\n",
        "            print(f\"모두 맞췄습니다! 정답은 {chosen_word}입니다. 당신은 행맨을 구했습니다.\")\n",
        "            game_over = 1\n",
        "        elif life == 0:\n",
        "            print(HANGMANPICS[6])\n",
        "            print(\"기회를 모두 소진했습니다. 당신은 한 목숨을 떠나보냈습니다...\")\n",
        "            print(f\"게임 종료! 정답은 {chosen_word}이었습니다!\")\n",
        "            game_over = 1\n",
        "    # TODO 6. 다시 시작할지 묻는다.\n",
        "    game_continue = input(\"다시 하시겠습니까?(y/n): \").lower()\n",
        "    if game_continue == 'y':\n",
        "        os.system(\"cls\")\n",
        "\n",
        "word_list = [\n",
        "\"account\",\n",
        "\"act\",\n",
        "\"adjustment\",\n",
        "\"apple\",\n",
        "\"orange\",\n",
        "\"banana\"\n",
        "]"
      ],
      "metadata": {
        "colab": {
          "base_uri": "https://localhost:8080/",
          "height": 395
        },
        "id": "DWTToIGX2rBj",
        "outputId": "22600107-3032-471d-f702-731bceb3b055"
      },
      "execution_count": 4,
      "outputs": [
        {
          "output_type": "error",
          "ename": "ModuleNotFoundError",
          "evalue": "No module named 'data'",
          "traceback": [
            "\u001b[0;31m---------------------------------------------------------------------------\u001b[0m",
            "\u001b[0;31mModuleNotFoundError\u001b[0m                       Traceback (most recent call last)",
            "\u001b[0;32m<ipython-input-4-4c26c0b850c1>\u001b[0m in \u001b[0;36m<cell line: 3>\u001b[0;34m()\u001b[0m\n\u001b[1;32m      1\u001b[0m \u001b[0;32mimport\u001b[0m \u001b[0mrandom\u001b[0m\u001b[0;34m\u001b[0m\u001b[0;34m\u001b[0m\u001b[0m\n\u001b[1;32m      2\u001b[0m \u001b[0;32mimport\u001b[0m \u001b[0mos\u001b[0m\u001b[0;34m\u001b[0m\u001b[0;34m\u001b[0m\u001b[0m\n\u001b[0;32m----> 3\u001b[0;31m \u001b[0;32mfrom\u001b[0m \u001b[0mdata\u001b[0m \u001b[0;32mimport\u001b[0m \u001b[0mHANGMANPICS\u001b[0m\u001b[0;34m,\u001b[0m \u001b[0mword_list\u001b[0m\u001b[0;34m,\u001b[0m \u001b[0mwin_art\u001b[0m\u001b[0;34m\u001b[0m\u001b[0;34m\u001b[0m\u001b[0m\n\u001b[0m\u001b[1;32m      4\u001b[0m \u001b[0;34m\u001b[0m\u001b[0m\n\u001b[1;32m      5\u001b[0m \u001b[0mgame_continue\u001b[0m \u001b[0;34m=\u001b[0m \u001b[0;34m'y'\u001b[0m\u001b[0;34m\u001b[0m\u001b[0;34m\u001b[0m\u001b[0m\n",
            "\u001b[0;31mModuleNotFoundError\u001b[0m: No module named 'data'",
            "",
            "\u001b[0;31m---------------------------------------------------------------------------\u001b[0;32m\nNOTE: If your import is failing due to a missing package, you can\nmanually install dependencies using either !pip or !apt.\n\nTo view examples of installing some common dependencies, click the\n\"Open Examples\" button below.\n\u001b[0;31m---------------------------------------------------------------------------\u001b[0m\n"
          ],
          "errorDetails": {
            "actions": [
              {
                "action": "open_url",
                "actionText": "Open Examples",
                "url": "/notebooks/snippets/importing_libraries.ipynb"
              }
            ]
          }
        }
      ]
    }
  ],
  "metadata": {
    "colab": {
      "provenance": [],
      "include_colab_link": true
    },
    "kernelspec": {
      "display_name": "Python 3",
      "name": "python3"
    },
    "language_info": {
      "name": "python"
    }
  },
  "nbformat": 4,
  "nbformat_minor": 0
}