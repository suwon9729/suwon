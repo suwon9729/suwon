{
  "nbformat": 4,
  "nbformat_minor": 0,
  "metadata": {
    "colab": {
      "provenance": [],
      "include_colab_link": true
    },
    "kernelspec": {
      "name": "python3",
      "display_name": "Python 3"
    },
    "language_info": {
      "name": "python"
    }
  },
  "cells": [
    {
      "cell_type": "markdown",
      "metadata": {
        "id": "view-in-github",
        "colab_type": "text"
      },
      "source": [
        "<a href=\"https://colab.research.google.com/github/suwon9729/suwon/blob/oz_school/Chapter09_%EA%B8%B0%EC%B4%88%EA%B3%BC%EC%A0%9C_ipynb%EC%9D%98_%EC%82%AC%EB%B3%B8.ipynb\" target=\"_parent\"><img src=\"https://colab.research.google.com/assets/colab-badge.svg\" alt=\"Open In Colab\"/></a>"
      ]
    },
    {
      "cell_type": "markdown",
      "source": [
        "안녕하세요. 수강생 여러분~! Chapter10 ~ 13 수업은 잘 들으셨나요?\n",
        "\n",
        "Chapter10 ~ 13의 수업 내용을 바탕으로 아래 문제를 풀어주시면 됩니다.\n",
        "\n",
        "####**제출 방법 안내**\n",
        "상단 파일명(Chapter03_기초과제.ipynb)을 Chapter01_기초과제_000(본인이름).ipynb로 변경후 아래 링크로 접속 후 본인 이름의 폴더에 제출해주면 됩니다.\n",
        "\n",
        "제출 링크 :\n",
        "\n",
        "####**답변 입력 방법 안내**\n",
        "\"답변\"이라고 적힌란을 마우스로 더블 클릭하시면 글을 작성할 수 있습니다.\n",
        "\n",
        "텍스트에 글을 더 잘 작성하기 위해서는 마크다운 언어를 공부하시면 됩니다.\n",
        "\n",
        "**(구글 검색 창에 \"코랩 마크다운\" 검색)**"
      ],
      "metadata": {
        "id": "fD4Qab2qYgOm"
      }
    },
    {
      "cell_type": "markdown",
      "source": [
        "##문제1\n",
        "movie_rank 리스트에는 아래와 같이 네 개의 영화 제목이 바인딩되어 있다. \"비밀\"을 \"나폴레옹\"과 \"괴물\" 사이에 추가하라.\n",
        "\n",
        "\n",
        "\n",
        "```\n",
        "movie = ['서울의 봄', '나폴레옹', '괴물', '베트맨']\n",
        "```\n",
        "\n"
      ],
      "metadata": {
        "id": "swqdcIl8Yn-c"
      }
    },
    {
      "cell_type": "code",
      "source": [
        "movie = ['서울의 봄', '나폴레옹', '괴물', '베트맨']\n",
        "movie.insert(2,\"비밀\")\n",
        "print(movie)"
      ],
      "metadata": {
        "id": "vjUhNFdBYo2n",
        "colab": {
          "base_uri": "https://localhost:8080/"
        },
        "outputId": "f375151a-2306-4de6-aa87-b0e23e6e1a12"
      },
      "execution_count": null,
      "outputs": [
        {
          "output_type": "stream",
          "name": "stdout",
          "text": [
            "['서울의 봄', '나폴레옹', '비밀', '괴물', '베트맨']\n"
          ]
        }
      ]
    },
    {
      "cell_type": "markdown",
      "source": [
        "##문제2\n",
        "movie_rank 리스트에서 '베트맨'를 삭제하라.\n",
        "\n",
        "```\n",
        "movie = ['서울의 봄', '나폴레옹', '비밀', '괴물', '베트맨']\n",
        "```\n",
        "\n"
      ],
      "metadata": {
        "id": "KZBNuM5MYpZR"
      }
    },
    {
      "cell_type": "code",
      "source": [
        "movie = ['서울의 봄', '나폴레옹', '비밀', '괴물', '베트맨']\n",
        "del movie [4]\n",
        "movie"
      ],
      "metadata": {
        "id": "cPezrT7cYreh",
        "colab": {
          "base_uri": "https://localhost:8080/"
        },
        "outputId": "b63c885f-0b39-4d70-84c5-5a10a1628cc8"
      },
      "execution_count": null,
      "outputs": [
        {
          "output_type": "execute_result",
          "data": {
            "text/plain": [
              "['서울의 봄', '나폴레옹', '비밀', '괴물']"
            ]
          },
          "metadata": {},
          "execution_count": 2
        }
      ]
    },
    {
      "cell_type": "markdown",
      "source": [
        "##문제3\n",
        "\n",
        "[언어1]과 [언어2] 리스트가 있을 때 언어1과 언어2의 원소를 모두 갖고 있는 [언어모음]이라는 list를 만들어주세요\n",
        "\n",
        "lang1 = [\"C\", \"C++\", \"JAVA\"]  \n",
        "lang2 = [\"Python\", \"Go\", \"C#\"]  \n",
        "\n",
        "실행 예:\n",
        "언어들\n",
        "['C', 'C++', 'JAVA', 'Python', 'Go', 'C#']"
      ],
      "metadata": {
        "id": "i8EJYPY0YsAe"
      }
    },
    {
      "cell_type": "code",
      "source": [
        "lang1 = [\"C\", \"C++\", \"JAVA\"]\n",
        "lang2 = [\"Python\", \"Go\", \"C#\"]\n",
        "언어모음 = [lang1 + lang2]\n",
        "print(언어모음)"
      ],
      "metadata": {
        "id": "GGfoaIivLKxT",
        "colab": {
          "base_uri": "https://localhost:8080/"
        },
        "outputId": "ce26b053-f07e-43e7-f201-2bf3ac07a86e"
      },
      "execution_count": null,
      "outputs": [
        {
          "output_type": "stream",
          "name": "stdout",
          "text": [
            "[['C', 'C++', 'JAVA', 'Python', 'Go', 'C#']]\n"
          ]
        }
      ]
    },
    {
      "cell_type": "markdown",
      "source": [
        "##문제4\n",
        "다음 리스트에서 최댓값과 최솟값을 출력해주세요.\n",
        "\n",
        "```\n",
        "nums = [1, 2, 3, 4, 5, 6, 7, 9, 10]\n",
        "```\n",
        "\n"
      ],
      "metadata": {
        "id": "5VFysaYRwT69"
      }
    },
    {
      "cell_type": "code",
      "source": [
        "nums = [1, 2, 3, 4, 5, 6, 7, 9, 10]\n",
        "print(nums)\n",
        "\n",
        "min(nums)\n",
        "max(nums)"
      ],
      "metadata": {
        "colab": {
          "base_uri": "https://localhost:8080/",
          "height": 228
        },
        "id": "X8Uki_DEbx2m",
        "outputId": "e429408e-385f-4c2f-833c-14f41405df94"
      },
      "execution_count": 24,
      "outputs": [
        {
          "output_type": "stream",
          "name": "stdout",
          "text": [
            "[1, 2, 3, 4, 5, 6, 7, 9, 10]\n"
          ]
        },
        {
          "output_type": "error",
          "ename": "TypeError",
          "evalue": "'list' object is not callable",
          "traceback": [
            "\u001b[0;31m---------------------------------------------------------------------------\u001b[0m",
            "\u001b[0;31mTypeError\u001b[0m                                 Traceback (most recent call last)",
            "\u001b[0;32m<ipython-input-24-1351f69726f8>\u001b[0m in \u001b[0;36m<cell line: 5>\u001b[0;34m()\u001b[0m\n\u001b[1;32m      3\u001b[0m \u001b[0;34m\u001b[0m\u001b[0m\n\u001b[1;32m      4\u001b[0m \u001b[0mmin\u001b[0m\u001b[0;34m(\u001b[0m\u001b[0mnums\u001b[0m\u001b[0;34m)\u001b[0m\u001b[0;34m\u001b[0m\u001b[0;34m\u001b[0m\u001b[0m\n\u001b[0;32m----> 5\u001b[0;31m \u001b[0mmax\u001b[0m\u001b[0;34m(\u001b[0m\u001b[0mnums\u001b[0m\u001b[0;34m)\u001b[0m\u001b[0;34m\u001b[0m\u001b[0;34m\u001b[0m\u001b[0m\n\u001b[0m",
            "\u001b[0;31mTypeError\u001b[0m: 'list' object is not callable"
          ]
        }
      ]
    },
    {
      "cell_type": "markdown",
      "source": [
        "##문제5\n",
        "\n",
        "다음 리스트에 저장된 데이터의 개수를 화면에 구해주세요\n",
        "\n",
        "cook = [\"피자\", \"김밥\", \"만두\", \"양념치킨\", \"족발\", \"피자\", \"김치만두\", \"쫄면\"]"
      ],
      "metadata": {
        "id": "5_IA50IQE2AM"
      }
    },
    {
      "cell_type": "code",
      "source": [
        "cook = [\"피자\", \"김밥\", \"만두\", \"양념치킨\", \"족발\", \"피자\", \"김치만두\", \"쫄면\"]\n",
        "type(cook)\n",
        "print(len(cook))"
      ],
      "metadata": {
        "id": "iRDvWnF8wTXa",
        "colab": {
          "base_uri": "https://localhost:8080/"
        },
        "outputId": "e2946732-785c-4e1d-90b1-465c75351ad9"
      },
      "execution_count": 30,
      "outputs": [
        {
          "output_type": "stream",
          "name": "stdout",
          "text": [
            "8\n"
          ]
        }
      ]
    },
    {
      "cell_type": "code",
      "source": [],
      "metadata": {
        "id": "rFR5kcoezrmZ"
      },
      "execution_count": null,
      "outputs": []
    },
    {
      "cell_type": "markdown",
      "source": [
        "##문제6\n",
        "\n",
        "다음 리스트의 평균을 출력해주세요\n",
        "\n",
        "nums = [1, 2, 3, 4, 5]"
      ],
      "metadata": {
        "id": "7DVH0FOBE4pt"
      }
    },
    {
      "cell_type": "code",
      "source": [
        "nums = [1, 2, 3, 4, 5]\n",
        "평균 = sum(nums)/len(nums)\n",
        "print(평균)"
      ],
      "metadata": {
        "id": "NXmaxplTE4QY",
        "colab": {
          "base_uri": "https://localhost:8080/"
        },
        "outputId": "33e21836-94a4-4281-f493-845e404846b9"
      },
      "execution_count": 31,
      "outputs": [
        {
          "output_type": "stream",
          "name": "stdout",
          "text": [
            "3.0\n"
          ]
        }
      ]
    },
    {
      "cell_type": "markdown",
      "source": [
        "## 문제7\n",
        "\n",
        "price 변수에는 날짜와 종가 정보가 저장돼 있습니다.\n",
        "날짜 정보를 제외하고 가격 정보만을 출력해주세요\n",
        "\n",
        "price = ['20180728', 100, 130, 140, 150, 160, 170]\n",
        "\n",
        "출력:\n",
        "[100, 130, 140, 150, 160, 170]"
      ],
      "metadata": {
        "id": "Cp7IpuJBFcq2"
      }
    },
    {
      "cell_type": "code",
      "source": [
        "price = ['20180728', 100, 130, 140, 150, 160, 170]\n",
        "print(price[1:6])"
      ],
      "metadata": {
        "id": "BpMb0bHPFdKF",
        "colab": {
          "base_uri": "https://localhost:8080/"
        },
        "outputId": "f953adf7-a2ef-4fe6-9aea-c785f0cb2657"
      },
      "execution_count": 34,
      "outputs": [
        {
          "output_type": "stream",
          "name": "stdout",
          "text": [
            "[100, 130, 140, 150, 160]\n"
          ]
        }
      ]
    },
    {
      "cell_type": "markdown",
      "source": [
        "## 문제8\n",
        "\n",
        "아래 코드 실행 시 오류가 발생한 사유를 설명해주세요\n",
        "\n",
        "t = (1, 2, 3)  \n",
        "t[0] = 'a'  \n",
        "Traceback (most recent call last):  \n",
        "   File \"<pyshell#46>\", line 1, in <module>  \n",
        "      t[0] = 'a'   \n",
        "TypeError: 'tuple' object does not support item assignment  "
      ],
      "metadata": {
        "id": "arxKtWk9Fy-9"
      }
    },
    {
      "cell_type": "markdown",
      "source": [
        "### 답변 : 튜플은 불변이므로 해당 요소에 새 값을 할당 할 수 없습니다! 튜플 요소의 값을 변경하려면 변경된 요소로 새 튜프를 생성해야 합니다."
      ],
      "metadata": {
        "id": "UP1M4q8IPxLT"
      }
    },
    {
      "cell_type": "markdown",
      "source": [
        "## 문제9\n",
        "다음 딕셔너리를 사용하여 메로나 가격을 출력하라.\n",
        "\n",
        "ice = {'메로나': 1000,\n",
        "       '폴로포': 1200,\n",
        "       '빵빠레': 1800,\n",
        "       '죠스바': 1200,\n",
        "       '월드콘': 1500}\n",
        "\n",
        "실행 예:\n",
        "메로나 가격: 1000"
      ],
      "metadata": {
        "id": "1DwclZivGe72"
      }
    },
    {
      "cell_type": "code",
      "source": [
        "ice = {'메로나': 1000, '폴로포': 1200, '빵빠레': 1800, '죠스바': 1200, '월드콘': 1500}\n",
        "print(f'메로나가격 : {ice[\"메로나\"]}')"
      ],
      "metadata": {
        "id": "jADTPFzOHcKk",
        "colab": {
          "base_uri": "https://localhost:8080/"
        },
        "outputId": "ec616d78-4433-4088-ac25-dd1412ae057e"
      },
      "execution_count": 45,
      "outputs": [
        {
          "output_type": "stream",
          "name": "stdout",
          "text": [
            "메로나가격 : 1000\n"
          ]
        }
      ]
    },
    {
      "cell_type": "markdown",
      "source": [
        "##문제10\n",
        "\n",
        "다음 딕셔너리에서 메로나의 가격을 1300으로 수정하라.\n",
        "\n",
        "ice = {'메로나': 1000,\n",
        "       '폴로포': 1200,\n",
        "       '빵빠레': 1800,\n",
        "       '죠스바': 1200,\n",
        "       '월드콘': 1500}"
      ],
      "metadata": {
        "id": "mBs2AaqcJAXN"
      }
    },
    {
      "cell_type": "code",
      "source": [
        "ice = {'메로나': 1000, '폴로포': 1200, '빵빠레': 1800, '죠스바': 1200, '월드콘': 1500}\n",
        "type(ice)\n",
        "ice['메로나'] = 1300\n",
        "print(ice)"
      ],
      "metadata": {
        "id": "C2RyUgoTJKsF",
        "colab": {
          "base_uri": "https://localhost:8080/"
        },
        "outputId": "0f6e7673-2cae-4d5e-f67f-851d46c793f2"
      },
      "execution_count": 61,
      "outputs": [
        {
          "output_type": "stream",
          "name": "stdout",
          "text": [
            "{'메로나': 1300, '폴로포': 1200, '빵빠레': 1800, '죠스바': 1200, '월드콘': 1500}\n"
          ]
        }
      ]
    },
    {
      "cell_type": "markdown",
      "source": [
        "## 문제11\n",
        "아래 순서대로 주어진 수강생 이름과 등급을 하나의 딕셔너리로 만드는 코드를 작성해주세요\n",
        "\n",
        "\n",
        "이름 : 나이썬, 김자바, 김씨, 박씨샵  \n",
        "등급 :   B       B      A      C\n"
      ],
      "metadata": {
        "id": "_ZdcVEtTJKS1"
      }
    },
    {
      "cell_type": "code",
      "source": [
        "dict(zip([\"나이썬\",\"김자바\",\"김씨\",\"빅씨샵\"],[\"B\", \"B\", \"A\", \"C\"]))\n"
      ],
      "metadata": {
        "id": "7RyqlYwpJOp7",
        "colab": {
          "base_uri": "https://localhost:8080/"
        },
        "outputId": "d6a7bb5d-cb1a-4f19-d747-13af63c4bbc6"
      },
      "execution_count": 67,
      "outputs": [
        {
          "output_type": "execute_result",
          "data": {
            "text/plain": [
              "{'나이썬': 'B', '김자바': 'B', '김씨': 'A', '빅씨샵': 'C'}"
            ]
          },
          "metadata": {},
          "execution_count": 67
        }
      ]
    },
    {
      "cell_type": "markdown",
      "source": [
        "## 문제12\n",
        "아래 ice 딕셔너리에 데이터를 추가 후 출력해주세\n",
        "\n",
        "ice = {\"메로나\": [300, 20],  \n",
        "              \"비비빅\": [400, 3],  \n",
        "              \"죠스바\": [250, 100]}  \n",
        "\n",
        "\n",
        "추가해야하는 데이터 : 이름 : 보석바, 가격:650, 재고:10"
      ],
      "metadata": {
        "id": "yzi6f2-YKsk4"
      }
    },
    {
      "cell_type": "code",
      "source": [
        "ice = {\"메로나\": [300, 20],\n",
        "\"비비빅\": [400, 3],\n",
        "\"죠스바\": [250, 100]}\n",
        "print(ice)\n",
        "ice.update({\"보석바\":[650, 10]})\n",
        "print(ice)\n"
      ],
      "metadata": {
        "colab": {
          "base_uri": "https://localhost:8080/"
        },
        "id": "NqUGn0ZBiIAl",
        "outputId": "71fa18b4-161a-4b00-df5a-11126234b68d"
      },
      "execution_count": 71,
      "outputs": [
        {
          "output_type": "stream",
          "name": "stdout",
          "text": [
            "{'메로나': [300, 20], '비비빅': [400, 3], '죠스바': [250, 100]}\n",
            "{'메로나': [300, 20], '비비빅': [400, 3], '죠스바': [250, 100], '보석바': [650, 10]}\n"
          ]
        }
      ]
    },
    {
      "cell_type": "markdown",
      "source": [
        "##문제13\n",
        "\n",
        "아래 딕셔너리에서 key만 출력해주세요  \n",
        "\n",
        "ice = {'메로나': 1000, '폴로포': 1200, '빵빠레': 1800, '죠스바': 1200, '월드콘': 1500}\n"
      ],
      "metadata": {
        "id": "RQJC80PBLWGt"
      }
    },
    {
      "cell_type": "code",
      "source": [
        "print(ice.keys())"
      ],
      "metadata": {
        "id": "m5m-a09iLVbO",
        "colab": {
          "base_uri": "https://localhost:8080/"
        },
        "outputId": "3676ba2a-7b05-4e92-a415-2f6dffbafd96"
      },
      "execution_count": 72,
      "outputs": [
        {
          "output_type": "stream",
          "name": "stdout",
          "text": [
            "dict_keys(['메로나', '비비빅', '죠스바', '보석바'])\n"
          ]
        }
      ]
    },
    {
      "cell_type": "code",
      "source": [],
      "metadata": {
        "id": "n74AynZcjTdc"
      },
      "execution_count": null,
      "outputs": []
    }
  ]
}